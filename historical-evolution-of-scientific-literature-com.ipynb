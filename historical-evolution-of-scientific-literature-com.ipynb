{
 "cells": [
  {
   "cell_type": "markdown",
   "id": "0b70bbff",
   "metadata": {
    "papermill": {
     "duration": 0.00441,
     "end_time": "2024-10-24T19:58:38.739467",
     "exception": false,
     "start_time": "2024-10-24T19:58:38.735057",
     "status": "completed"
    },
    "tags": []
   },
   "source": [
    "# 📘 Historical Evolution of AI Research - A Decade-Wise Comparative Analysis\r\n",
    "\r\n",
    "---\r\n",
    "\r\n",
    "This notebook is part of the **Gemini 1.5 Long Context competition**, demonstrating how the model's long context window enables the analysis of a large set of scientific literature spanning decades. The goal is to uncover trends, paradigm shifts, and developments within the field of Artificial Intelligence (AI) by analyzing thousands of research papers, books, and conference proceedings from the 1970s to today.\r\n",
    "\r\n",
    "---\r\n",
    "\r\n",
    "## 📝 Introduction\r\n",
    "\r\n",
    "The **Gemini 1.5 model**, with its breakthrough large context window of **2 million tokens**, enables the processing of vast amounts of data in a single context. In this project, we leverage this capability to analyze the evolution of scientific literature in AI over the past 50 years. This analysis covers how research trends, terminologies, and paradigms have shifted from one decade to the next, culminating in the current state of the field.\r\n",
    "\r\n",
    "### Why this is important:\r\n",
    "\r\n",
    "- **Rapid Evolution**: Scientific fields evolve rapidly, and understanding the historical context is crucial for predicting future trends.\r\n",
    "- **Trend Analysis**: By analyzing research trends, we can better identify emerging technologies, shifting methodologies, and influential papers that have shaped AI's progress.\r\n",
    "- **Long Context Window**: Gemini's long context window allows us to analyze the entire history of AI research in one continuous process, preserving important contextual connections between papers published across decades."
   ]
  },
  {
   "attachments": {
    "f1d3f3eb-bff1-4001-a98e-f9d2f32bbedc.png": {
     "image/png": "[encoded data removed]"
    }
   },
   "cell_type": "markdown",
   "id": "b9559ce7",
   "metadata": {
    "papermill": {
     "duration": 0.003444,
     "end_time": "2024-10-24T19:58:38.747062",
     "exception": false,
     "start_time": "2024-10-24T19:58:38.743618",
     "status": "completed"
    },
    "tags": []
   },
   "source": [
    "## ![arxiv_emoji_style_small.png](attachment:f1d3f3eb-bff1-4001-a98e-f9d2f32bbedc.png) arXiv Dataset Overview\n",
    "\n",
    "The arXiv dataset provides a comprehensive collection of AI research papers from various categories, including machine learning, robotics, and natural language processing. It covers a wide range of publications spanning multiple decades, offering rich metadata such as titles, abstracts, publication dates, and keywords.\n",
    "\n",
    "### Why this dataset is important:\n",
    "\n",
    "- **Historical Depth**: By covering research papers from the 1970s to the present, the dataset allows for a longitudinal study of AI's evolution.\n",
    "- **Rich Metadata**: The inclusion of detailed abstracts, keywords, and publication years enables a deep dive into trends and paradigm shifts in the field.\n",
    "- **Aligned with Gemini's Capabilities**: The structure of the dataset perfectly aligns with Gemini’s ability to process large context windows, allowing us to analyze the entire body of work continuously and preserve contextual connections over decades.\n",
    "\n",
    "This dataset is essential for uncovering emerging technologies, influential research works, and understanding the trajectory of AI as a field.\n"
   ]
  },
  {
   "cell_type": "code",
   "execution_count": 1,
   "id": "5ab0b14e",
   "metadata": {
    "execution": {
     "iopub.execute_input": "2024-10-24T19:58:38.755946Z",
     "iopub.status.busy": "2024-10-24T19:58:38.755568Z",
     "iopub.status.idle": "2024-10-24T19:58:54.222482Z",
     "shell.execute_reply": "2024-10-24T19:58:54.221462Z"
    },
    "papermill": {
     "duration": 15.474405,
     "end_time": "2024-10-24T19:58:54.225108",
     "exception": false,
     "start_time": "2024-10-24T19:58:38.750703",
     "status": "completed"
    },
    "tags": []
   },
   "outputs": [
    {
     "name": "stdout",
     "output_type": "stream",
     "text": [
      "Collecting arxiv\r\n",
      "  Downloading arxiv-2.1.3-py3-none-any.whl.metadata (6.1 kB)\r\n",
      "Collecting feedparser~=6.0.10 (from arxiv)\r\n",
      "  Downloading feedparser-6.0.11-py3-none-any.whl.metadata (2.4 kB)\r\n",
      "Requirement already satisfied: requests~=2.32.0 in /opt/conda/lib/python3.10/site-packages (from arxiv) (2.32.3)\r\n",
      "Collecting sgmllib3k (from feedparser~=6.0.10->arxiv)\r\n",
      "  Downloading sgmllib3k-1.0.0.tar.gz (5.8 kB)\r\n",
      "  Preparing metadata (setup.py) ... \u001b[?25l-\b \bdone\r\n",
      "\u001b[?25hRequirement already satisfied: charset-normalizer<4,>=2 in /opt/conda/lib/python3.10/site-packages (from requests~=2.32.0->arxiv) (3.3.2)\r\n",
      "Requirement already satisfied: idna<4,>=2.5 in /opt/conda/lib/python3.10/site-packages (from requests~=2.32.0->arxiv) (3.7)\r\n",
      "Requirement already satisfied: urllib3<3,>=1.21.1 in /opt/conda/lib/python3.10/site-packages (from requests~=2.32.0->arxiv) (1.26.18)\r\n",
      "Requirement already satisfied: certifi>=2017.4.17 in /opt/conda/lib/python3.10/site-packages (from requests~=2.32.0->arxiv) (2024.8.30)\r\n",
      "Downloading arxiv-2.1.3-py3-none-any.whl (11 kB)\r\n",
      "Downloading feedparser-6.0.11-py3-none-any.whl (81 kB)\r\n",
      "\u001b[2K   \u001b[90m━━━━━━━━━━━━━━━━━━━━━━━━━━━━━━━━━━━━━━━━\u001b[0m \u001b[32m81.3/81.3 kB\u001b[0m \u001b[31m3.4 MB/s\u001b[0m eta \u001b[36m0:00:00\u001b[0m\r\n",
      "\u001b[?25hBuilding wheels for collected packages: sgmllib3k\r\n",
      "  Building wheel for sgmllib3k (setup.py) ... \u001b[?25l-\b \b\\\b \bdone\r\n",
      "\u001b[?25h  Created wheel for sgmllib3k: filename=sgmllib3k-1.0.0-py3-none-any.whl size=6049 sha256=4708a29f63d4f685dff81e7385ff13a70a723ac732d4fbbed9f4ca5aaf37da83\r\n",
      "  Stored in directory: /root/.cache/pip/wheels/f0/69/93/a47e9d621be168e9e33c7ce60524393c0b92ae83cf6c6e89c5\r\n",
      "Successfully built sgmllib3k\r\n",
      "Installing collected packages: sgmllib3k, feedparser, arxiv\r\n",
      "Successfully installed arxiv-2.1.3 feedparser-6.0.11 sgmllib3k-1.0.0\r\n"
     ]
    }
   ],
   "source": [
    "try:\n",
    "    import arxiv\n",
    "    print(\"arxiv is already installed.\")\n",
    "except ImportError:\n",
    "    # If arxiv is not installed, install it\n",
    "    !pip install arxiv"
   ]
  },
  {
   "cell_type": "code",
   "execution_count": 2,
   "id": "fe136aaa",
   "metadata": {
    "execution": {
     "iopub.execute_input": "2024-10-24T19:58:54.238498Z",
     "iopub.status.busy": "2024-10-24T19:58:54.237630Z",
     "iopub.status.idle": "2024-10-24T19:58:55.283363Z",
     "shell.execute_reply": "2024-10-24T19:58:55.282449Z"
    },
    "papermill": {
     "duration": 1.055207,
     "end_time": "2024-10-24T19:58:55.285921",
     "exception": false,
     "start_time": "2024-10-24T19:58:54.230714",
     "status": "completed"
    },
    "tags": []
   },
   "outputs": [
    {
     "name": "stdout",
     "output_type": "stream",
     "text": [
      "Gemini API library already installed.\n"
     ]
    }
   ],
   "source": [
    "try:\n",
    "    import google.generativeai as genai\n",
    "    print(\"Gemini API library already installed.\")\n",
    "except ImportError:\n",
    "    !pip install google-generativeai"
   ]
  },
  {
   "cell_type": "code",
   "execution_count": 3,
   "id": "9f4536a3",
   "metadata": {
    "execution": {
     "iopub.execute_input": "2024-10-24T19:58:55.298064Z",
     "iopub.status.busy": "2024-10-24T19:58:55.297273Z",
     "iopub.status.idle": "2024-10-24T19:58:56.114117Z",
     "shell.execute_reply": "2024-10-24T19:58:56.113292Z"
    },
    "papermill": {
     "duration": 0.825252,
     "end_time": "2024-10-24T19:58:56.116480",
     "exception": false,
     "start_time": "2024-10-24T19:58:55.291228",
     "status": "completed"
    },
    "tags": []
   },
   "outputs": [],
   "source": [
    "# Import all necessary libraries here.\n",
    "import arxiv\n",
    "import pandas as pd\n",
    "import time\n",
    "import warnings\n",
    "import google.generativeai as genai\n",
    "from IPython.display import display\n",
    "from kaggle_secrets import UserSecretsClient"
   ]
  },
  {
   "cell_type": "code",
   "execution_count": 4,
   "id": "02fa5aae",
   "metadata": {
    "execution": {
     "iopub.execute_input": "2024-10-24T19:58:56.129675Z",
     "iopub.status.busy": "2024-10-24T19:58:56.129203Z",
     "iopub.status.idle": "2024-10-24T19:58:56.133737Z",
     "shell.execute_reply": "2024-10-24T19:58:56.132857Z"
    },
    "papermill": {
     "duration": 0.013866,
     "end_time": "2024-10-24T19:58:56.135810",
     "exception": false,
     "start_time": "2024-10-24T19:58:56.121944",
     "status": "completed"
    },
    "tags": []
   },
   "outputs": [],
   "source": [
    "warnings.filterwarnings(\"ignore\", category=DeprecationWarning)\n",
    "warnings.filterwarnings(\"ignore\")"
   ]
  },
  {
   "cell_type": "markdown",
   "id": "f49db0d1",
   "metadata": {
    "papermill": {
     "duration": 0.004956,
     "end_time": "2024-10-24T19:58:56.145931",
     "exception": false,
     "start_time": "2024-10-24T19:58:56.140975",
     "status": "completed"
    },
    "tags": []
   },
   "source": [
    "## 📊 Dataset Overview\n",
    "The dataset used in this analysis contains a comprehensive collection of AI research papers spanning over 50 years. Sourced from arXiv.org and NeurIPS conference proceedings, it includes metadata such as titles, authors, abstracts, publication dates, and key terms. This structured information allows us to analyze the evolution of AI research and track paradigm shifts within the field.\n",
    "\n",
    "### Why this dataset is valuable:\n",
    "- **Comprehensive Coverage**: The dataset spans multiple decades, capturing the progression of AI research from its early stages to the present.\n",
    "- **Insightful Metadata**: With detailed abstracts, keywords, and publication dates, the dataset provides rich context for understanding research trends and identifying influential papers.\n",
    "- **Enabling Long-Context Analysis**: The structured data aligns perfectly with Gemini's capability to handle large context windows, enabling a holistic view of AI's development and preserving connections across decades of research.\n",
    "\n",
    "This dataset is essential for identifying patterns, understanding the evolution of terminology, and uncovering the emerging technologies that shape the future of AI."
   ]
  },
  {
   "cell_type": "code",
   "execution_count": 5,
   "id": "202ed18b",
   "metadata": {
    "execution": {
     "iopub.execute_input": "2024-10-24T19:58:56.157183Z",
     "iopub.status.busy": "2024-10-24T19:58:56.156912Z",
     "iopub.status.idle": "2024-10-24T19:59:41.778902Z",
     "shell.execute_reply": "2024-10-24T19:59:41.777813Z"
    },
    "papermill": {
     "duration": 45.635217,
     "end_time": "2024-10-24T19:59:41.786114",
     "exception": false,
     "start_time": "2024-10-24T19:58:56.150897",
     "status": "completed"
    },
    "tags": []
   },
   "outputs": [
    {
     "name": "stdout",
     "output_type": "stream",
     "text": [
      "Total papers retrieved: 1000\n"
     ]
    }
   ],
   "source": [
    "# Query for AI-related papers from the arXiv API\n",
    "search_query = 'cat:cs.AI OR cat:stat.ML OR cat:cs.LG'\n",
    "\n",
    "# Initialize an empty list to store papers\n",
    "papers = []\n",
    "total_results = 1000  # Total number of results you want to retrieve\n",
    "batch_size = 100  # The maximum batch size supported by arXiv API\n",
    "current_count = 0\n",
    "\n",
    "# Fetch results in batches\n",
    "for start in range(0, total_results, batch_size):\n",
    "    search = arxiv.Search(\n",
    "        query=search_query,\n",
    "        max_results=batch_size,\n",
    "        sort_by=arxiv.SortCriterion.SubmittedDate\n",
    "    )\n",
    "\n",
    "    try:\n",
    "        # Fetch results from the search object\n",
    "        for result in search.results():\n",
    "            papers.append({\n",
    "                'title': result.title,\n",
    "                'authors': [author.name for author in result.authors],\n",
    "                'abstract': result.summary,\n",
    "                'published': result.published,\n",
    "                'categories': result.categories,\n",
    "                'pdf_url': result.pdf_url\n",
    "            })\n",
    "            current_count += 1\n",
    "            if current_count >= total_results:\n",
    "                break\n",
    "        time.sleep(3)  \n",
    "    except arxiv.UnexpectedEmptyPageError as e:\n",
    "        print(f\"Empty page encountered at start={start}. Skipping this batch.\")\n",
    "        continue \n",
    "    except Exception as e:\n",
    "        print(f\"An error occurred: {e}\")\n",
    "        break\n",
    "\n",
    "# Display the total number of papers retrieved and the first few entries\n",
    "print(f\"Total papers retrieved: {len(papers)}\")"
   ]
  },
  {
   "cell_type": "code",
   "execution_count": 6,
   "id": "63a71e53",
   "metadata": {
    "execution": {
     "iopub.execute_input": "2024-10-24T19:59:41.798175Z",
     "iopub.status.busy": "2024-10-24T19:59:41.797853Z",
     "iopub.status.idle": "2024-10-24T19:59:41.884909Z",
     "shell.execute_reply": "2024-10-24T19:59:41.883846Z"
    },
    "papermill": {
     "duration": 0.095663,
     "end_time": "2024-10-24T19:59:41.887304",
     "exception": false,
     "start_time": "2024-10-24T19:59:41.791641",
     "status": "completed"
    },
    "tags": []
   },
   "outputs": [],
   "source": [
    "# After fetching the papers, save the metadata to a CSV file for easier use in Kaggle working directory (/kaggle/working)\n",
    "df = pd.DataFrame(papers)\n",
    "df.to_csv('/kaggle/working/arxiv_ai_papers.csv', index=False)"
   ]
  },
  {
   "cell_type": "code",
   "execution_count": 7,
   "id": "656e8a41",
   "metadata": {
    "execution": {
     "iopub.execute_input": "2024-10-24T19:59:41.900203Z",
     "iopub.status.busy": "2024-10-24T19:59:41.899310Z",
     "iopub.status.idle": "2024-10-24T19:59:41.957600Z",
     "shell.execute_reply": "2024-10-24T19:59:41.956708Z"
    },
    "papermill": {
     "duration": 0.066785,
     "end_time": "2024-10-24T19:59:41.959619",
     "exception": false,
     "start_time": "2024-10-24T19:59:41.892834",
     "status": "completed"
    },
    "tags": []
   },
   "outputs": [
    {
     "name": "stdout",
     "output_type": "stream",
     "text": [
      "Number of papers per decade:\n",
      "decade\n",
      "2020    1000\n",
      "Name: count, dtype: int64\n"
     ]
    },
    {
     "data": {
      "text/html": [
       "<div>\n",
       "<style scoped>\n",
       "    .dataframe tbody tr th:only-of-type {\n",
       "        vertical-align: middle;\n",
       "    }\n",
       "\n",
       "    .dataframe tbody tr th {\n",
       "        vertical-align: top;\n",
       "    }\n",
       "\n",
       "    .dataframe thead th {\n",
       "        text-align: right;\n",
       "    }\n",
       "</style>\n",
       "<table border=\"1\" class=\"dataframe\">\n",
       "  <thead>\n",
       "    <tr style=\"text-align: right;\">\n",
       "      <th></th>\n",
       "      <th>title</th>\n",
       "      <th>authors</th>\n",
       "      <th>abstract</th>\n",
       "      <th>published</th>\n",
       "      <th>categories</th>\n",
       "      <th>pdf_url</th>\n",
       "      <th>year</th>\n",
       "      <th>decade</th>\n",
       "    </tr>\n",
       "  </thead>\n",
       "  <tbody>\n",
       "    <tr>\n",
       "      <th>0</th>\n",
       "      <td>Prioritized Generative Replay</td>\n",
       "      <td>['Renhao Wang', 'Kevin Frans', 'Pieter Abbeel'...</td>\n",
       "      <td>Sample-efficient online reinforcement learning...</td>\n",
       "      <td>2024-10-23 17:59:52+00:00</td>\n",
       "      <td>['cs.LG']</td>\n",
       "      <td>http://arxiv.org/pdf/2410.18082v1</td>\n",
       "      <td>2024</td>\n",
       "      <td>2020</td>\n",
       "    </tr>\n",
       "    <tr>\n",
       "      <th>1</th>\n",
       "      <td>ALTA: Compiler-Based Analysis of Transformers</td>\n",
       "      <td>['Peter Shaw', 'James Cohan', 'Jacob Eisenstei...</td>\n",
       "      <td>We propose a new programming language called A...</td>\n",
       "      <td>2024-10-23 17:58:49+00:00</td>\n",
       "      <td>['cs.LG', 'cs.AI', 'cs.CL']</td>\n",
       "      <td>http://arxiv.org/pdf/2410.18077v1</td>\n",
       "      <td>2024</td>\n",
       "      <td>2020</td>\n",
       "    </tr>\n",
       "    <tr>\n",
       "      <th>2</th>\n",
       "      <td>Leveraging Skills from Unlabeled Prior Data fo...</td>\n",
       "      <td>['Max Wilcoxson', 'Qiyang Li', 'Kevin Frans', ...</td>\n",
       "      <td>Unsupervised pretraining has been transformati...</td>\n",
       "      <td>2024-10-23 17:58:45+00:00</td>\n",
       "      <td>['cs.LG', 'cs.AI', 'stat.ML']</td>\n",
       "      <td>http://arxiv.org/pdf/2410.18076v1</td>\n",
       "      <td>2024</td>\n",
       "      <td>2020</td>\n",
       "    </tr>\n",
       "    <tr>\n",
       "      <th>3</th>\n",
       "      <td>ProFL: Performative Robust Optimal Federated L...</td>\n",
       "      <td>['Xue Zheng', 'Tian Xie', 'Xuwei Tan', 'Aylin ...</td>\n",
       "      <td>Performative prediction (PP) is a framework th...</td>\n",
       "      <td>2024-10-23 17:57:14+00:00</td>\n",
       "      <td>['cs.LG', 'cs.IT', 'math.IT']</td>\n",
       "      <td>http://arxiv.org/pdf/2410.18075v1</td>\n",
       "      <td>2024</td>\n",
       "      <td>2020</td>\n",
       "    </tr>\n",
       "    <tr>\n",
       "      <th>4</th>\n",
       "      <td>UnCLe: Unsupervised Continual Learning of Dept...</td>\n",
       "      <td>['Suchisrit Gangopadhyay', 'Xien Chen', 'Micha...</td>\n",
       "      <td>We propose UnCLe, a standardized benchmark for...</td>\n",
       "      <td>2024-10-23 17:56:33+00:00</td>\n",
       "      <td>['cs.CV', 'cs.LG']</td>\n",
       "      <td>http://arxiv.org/pdf/2410.18074v1</td>\n",
       "      <td>2024</td>\n",
       "      <td>2020</td>\n",
       "    </tr>\n",
       "    <tr>\n",
       "      <th>5</th>\n",
       "      <td>TP-Eval: Tap Multimodal LLMs' Potential in Eva...</td>\n",
       "      <td>['Yuxuan Xie', 'Tianhua Li', 'Wenqi Shao', 'Ka...</td>\n",
       "      <td>Recently, multimodal large language models (ML...</td>\n",
       "      <td>2024-10-23 17:54:43+00:00</td>\n",
       "      <td>['cs.CV', 'cs.AI', 'cs.CL']</td>\n",
       "      <td>http://arxiv.org/pdf/2410.18071v1</td>\n",
       "      <td>2024</td>\n",
       "      <td>2020</td>\n",
       "    </tr>\n",
       "    <tr>\n",
       "      <th>6</th>\n",
       "      <td>Training Free Guided Flow Matching with Optima...</td>\n",
       "      <td>['Luran Wang', 'Chaoran Cheng', 'Yizhen Liao',...</td>\n",
       "      <td>Controlled generation with pre-trained Diffusi...</td>\n",
       "      <td>2024-10-23 17:53:11+00:00</td>\n",
       "      <td>['cs.LG', 'cs.AI']</td>\n",
       "      <td>http://arxiv.org/pdf/2410.18070v1</td>\n",
       "      <td>2024</td>\n",
       "      <td>2020</td>\n",
       "    </tr>\n",
       "    <tr>\n",
       "      <th>7</th>\n",
       "      <td>Beyond position: how rotary embeddings shape r...</td>\n",
       "      <td>['Valeria Ruscio', 'Fabrizio Silvestri']</td>\n",
       "      <td>Rotary Positional Embeddings (RoPE) enhance po...</td>\n",
       "      <td>2024-10-23 17:48:28+00:00</td>\n",
       "      <td>['cs.LG', 'cs.AI']</td>\n",
       "      <td>http://arxiv.org/pdf/2410.18067v1</td>\n",
       "      <td>2024</td>\n",
       "      <td>2020</td>\n",
       "    </tr>\n",
       "    <tr>\n",
       "      <th>8</th>\n",
       "      <td>The Double-Edged Sword of Behavioral Responses...</td>\n",
       "      <td>['Raman Ebrahimi', 'Kristen Vaccaro', 'Parinaz...</td>\n",
       "      <td>When humans are subject to an algorithmic deci...</td>\n",
       "      <td>2024-10-23 17:42:54+00:00</td>\n",
       "      <td>['cs.LG', 'cs.GT', 'cs.HC']</td>\n",
       "      <td>http://arxiv.org/pdf/2410.18066v1</td>\n",
       "      <td>2024</td>\n",
       "      <td>2020</td>\n",
       "    </tr>\n",
       "    <tr>\n",
       "      <th>9</th>\n",
       "      <td>SPIRE: Synergistic Planning, Imitation, and Re...</td>\n",
       "      <td>['Zihan Zhou', 'Animesh Garg', 'Dieter Fox', '...</td>\n",
       "      <td>Robot learning has proven to be a general and ...</td>\n",
       "      <td>2024-10-23 17:42:07+00:00</td>\n",
       "      <td>['cs.RO', 'cs.AI', 'cs.CV', 'cs.LG']</td>\n",
       "      <td>http://arxiv.org/pdf/2410.18065v1</td>\n",
       "      <td>2024</td>\n",
       "      <td>2020</td>\n",
       "    </tr>\n",
       "  </tbody>\n",
       "</table>\n",
       "</div>"
      ],
      "text/plain": [
       "                                               title  \\\n",
       "0                      Prioritized Generative Replay   \n",
       "1      ALTA: Compiler-Based Analysis of Transformers   \n",
       "2  Leveraging Skills from Unlabeled Prior Data fo...   \n",
       "3  ProFL: Performative Robust Optimal Federated L...   \n",
       "4  UnCLe: Unsupervised Continual Learning of Dept...   \n",
       "5  TP-Eval: Tap Multimodal LLMs' Potential in Eva...   \n",
       "6  Training Free Guided Flow Matching with Optima...   \n",
       "7  Beyond position: how rotary embeddings shape r...   \n",
       "8  The Double-Edged Sword of Behavioral Responses...   \n",
       "9  SPIRE: Synergistic Planning, Imitation, and Re...   \n",
       "\n",
       "                                             authors  \\\n",
       "0  ['Renhao Wang', 'Kevin Frans', 'Pieter Abbeel'...   \n",
       "1  ['Peter Shaw', 'James Cohan', 'Jacob Eisenstei...   \n",
       "2  ['Max Wilcoxson', 'Qiyang Li', 'Kevin Frans', ...   \n",
       "3  ['Xue Zheng', 'Tian Xie', 'Xuwei Tan', 'Aylin ...   \n",
       "4  ['Suchisrit Gangopadhyay', 'Xien Chen', 'Micha...   \n",
       "5  ['Yuxuan Xie', 'Tianhua Li', 'Wenqi Shao', 'Ka...   \n",
       "6  ['Luran Wang', 'Chaoran Cheng', 'Yizhen Liao',...   \n",
       "7           ['Valeria Ruscio', 'Fabrizio Silvestri']   \n",
       "8  ['Raman Ebrahimi', 'Kristen Vaccaro', 'Parinaz...   \n",
       "9  ['Zihan Zhou', 'Animesh Garg', 'Dieter Fox', '...   \n",
       "\n",
       "                                            abstract  \\\n",
       "0  Sample-efficient online reinforcement learning...   \n",
       "1  We propose a new programming language called A...   \n",
       "2  Unsupervised pretraining has been transformati...   \n",
       "3  Performative prediction (PP) is a framework th...   \n",
       "4  We propose UnCLe, a standardized benchmark for...   \n",
       "5  Recently, multimodal large language models (ML...   \n",
       "6  Controlled generation with pre-trained Diffusi...   \n",
       "7  Rotary Positional Embeddings (RoPE) enhance po...   \n",
       "8  When humans are subject to an algorithmic deci...   \n",
       "9  Robot learning has proven to be a general and ...   \n",
       "\n",
       "                  published                            categories  \\\n",
       "0 2024-10-23 17:59:52+00:00                             ['cs.LG']   \n",
       "1 2024-10-23 17:58:49+00:00           ['cs.LG', 'cs.AI', 'cs.CL']   \n",
       "2 2024-10-23 17:58:45+00:00         ['cs.LG', 'cs.AI', 'stat.ML']   \n",
       "3 2024-10-23 17:57:14+00:00         ['cs.LG', 'cs.IT', 'math.IT']   \n",
       "4 2024-10-23 17:56:33+00:00                    ['cs.CV', 'cs.LG']   \n",
       "5 2024-10-23 17:54:43+00:00           ['cs.CV', 'cs.AI', 'cs.CL']   \n",
       "6 2024-10-23 17:53:11+00:00                    ['cs.LG', 'cs.AI']   \n",
       "7 2024-10-23 17:48:28+00:00                    ['cs.LG', 'cs.AI']   \n",
       "8 2024-10-23 17:42:54+00:00           ['cs.LG', 'cs.GT', 'cs.HC']   \n",
       "9 2024-10-23 17:42:07+00:00  ['cs.RO', 'cs.AI', 'cs.CV', 'cs.LG']   \n",
       "\n",
       "                             pdf_url  year  decade  \n",
       "0  http://arxiv.org/pdf/2410.18082v1  2024    2020  \n",
       "1  http://arxiv.org/pdf/2410.18077v1  2024    2020  \n",
       "2  http://arxiv.org/pdf/2410.18076v1  2024    2020  \n",
       "3  http://arxiv.org/pdf/2410.18075v1  2024    2020  \n",
       "4  http://arxiv.org/pdf/2410.18074v1  2024    2020  \n",
       "5  http://arxiv.org/pdf/2410.18071v1  2024    2020  \n",
       "6  http://arxiv.org/pdf/2410.18070v1  2024    2020  \n",
       "7  http://arxiv.org/pdf/2410.18067v1  2024    2020  \n",
       "8  http://arxiv.org/pdf/2410.18066v1  2024    2020  \n",
       "9  http://arxiv.org/pdf/2410.18065v1  2024    2020  "
      ]
     },
     "metadata": {},
     "output_type": "display_data"
    }
   ],
   "source": [
    "# Organize by decades to fit our analysis.\n",
    "df = pd.read_csv('/kaggle/working/arxiv_ai_papers.csv')\n",
    "\n",
    "# Convert the published date to a datetime format\n",
    "df['published'] = pd.to_datetime(df['published'])\n",
    "\n",
    "# Extract the year and create a decade column\n",
    "df['year'] = df['published'].dt.year\n",
    "df['decade'] = (df['year'] // 10) * 10\n",
    "\n",
    "# Group the data by decades and count the number of entries in each decade\n",
    "decade_counts = df['decade'].value_counts().sort_index()\n",
    "\n",
    "# Display the counts for each decade\n",
    "print(\"Number of papers per decade:\")\n",
    "print(decade_counts)\n",
    "\n",
    "# Filter papers starting from the 1990s\n",
    "df_1990s_and_later = df[df['decade'] >= 1990]\n",
    "\n",
    "display(df_1990s_and_later.head(10))"
   ]
  },
  {
   "cell_type": "markdown",
   "id": "da8feadb",
   "metadata": {
    "papermill": {
     "duration": 0.005833,
     "end_time": "2024-10-24T19:59:41.971338",
     "exception": false,
     "start_time": "2024-10-24T19:59:41.965505",
     "status": "completed"
    },
    "tags": []
   },
   "source": [
    "## 🔑 Authenticate the Gemini 1.5 API\n",
    "\n",
    "To leverage the capabilities of Gemini 1.5, we first need to authenticate the API using Kaggle’s user secrets. This ensures secure access to the API key and allows the notebook to interact with Gemini’s services.\n",
    "\n",
    "Before you start using Gemini 1.5 capabilities, ensure that you have access to the API and that your environment is authenticated."
   ]
  },
  {
   "cell_type": "markdown",
   "id": "49928a60",
   "metadata": {
    "papermill": {
     "duration": 0.005582,
     "end_time": "2024-10-24T19:59:41.982852",
     "exception": false,
     "start_time": "2024-10-24T19:59:41.977270",
     "status": "completed"
    },
    "tags": []
   },
   "source": [
    "* Sign in to Gemini Platform: Visit [Gemini AI](https://ai.google/) and log in with your account.\n",
    "* Create API Key: Go to the \"API\" section, click \"Create API Key,\" and set permissions.\n",
    "* Store Securely: Copy the API key and save it securely; you won't be able to view it again.\n",
    "* Add to Kaggle Secrets: In Kaggle, go to \"Settings\" > \"Secrets\" and add \"gemini_api_key\" with your copied API key."
   ]
  },
  {
   "cell_type": "code",
   "execution_count": 8,
   "id": "bc9fe400",
   "metadata": {
    "execution": {
     "iopub.execute_input": "2024-10-24T19:59:41.995580Z",
     "iopub.status.busy": "2024-10-24T19:59:41.995228Z",
     "iopub.status.idle": "2024-10-24T19:59:42.141211Z",
     "shell.execute_reply": "2024-10-24T19:59:42.140381Z"
    },
    "papermill": {
     "duration": 0.155099,
     "end_time": "2024-10-24T19:59:42.143660",
     "exception": false,
     "start_time": "2024-10-24T19:59:41.988561",
     "status": "completed"
    },
    "tags": []
   },
   "outputs": [],
   "source": [
    "user_secrets = UserSecretsClient()\n",
    "gemini_api_key = user_secrets.get_secret(\"gemini_api_key\")\n",
    "\n",
    "# Configure the API client\n",
    "genai.configure(api_key=gemini_api_key)"
   ]
  }
 ],
 "metadata": {
  "kaggle": {
   "accelerator": "none",
   "dataSources": [
    {
     "databundleVersionId": 9881586,
     "sourceId": 83735,
     "sourceType": "competition"
    }
   ],
   "isGpuEnabled": false,
   "isInternetEnabled": true,
   "language": "python",
   "sourceType": "notebook"
  },
  "kernelspec": {
   "display_name": "Python 3",
   "language": "python",
   "name": "python3"
  },
  "language_info": {
   "codemirror_mode": {
    "name": "ipython",
    "version": 3
   },
   "file_extension": ".py",
   "mimetype": "text/x-python",
   "name": "python",
   "nbconvert_exporter": "python",
   "pygments_lexer": "ipython3",
   "version": "3.10.14"
  },
  "papermill": {
   "default_parameters": {},
   "duration": 66.700948,
   "end_time": "2024-10-24T19:59:42.669596",
   "environment_variables": {},
   "exception": null,
   "input_path": "__notebook__.ipynb",
   "output_path": "__notebook__.ipynb",
   "parameters": {},
   "start_time": "2024-10-24T19:58:35.968648",
   "version": "2.6.0"
  }
 },
 "nbformat": 4,
 "nbformat_minor": 5
}
