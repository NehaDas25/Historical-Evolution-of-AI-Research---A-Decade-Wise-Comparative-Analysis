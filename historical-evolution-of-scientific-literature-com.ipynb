{
 "cells": [
  {
   "cell_type": "markdown",
   "id": "50c1bfeb",
   "metadata": {
    "papermill": {
     "duration": 0.004505,
     "end_time": "2024-10-22T08:17:17.818677",
     "exception": false,
     "start_time": "2024-10-22T08:17:17.814172",
     "status": "completed"
    },
    "tags": []
   },
   "source": [
    "# 📘 Historical Evolution of AI Research - A Decade-Wise Comparative Analysis\r\n",
    "\r\n",
    "---\r\n",
    "\r\n",
    "This notebook is part of the **Gemini 1.5 Long Context competition**, demonstrating how the model's long context window enables the analysis of a large set of scientific literature spanning decades. The goal is to uncover trends, paradigm shifts, and developments within the field of Artificial Intelligence (AI) by analyzing thousands of research papers, books, and conference proceedings from the 1970s to today.\r\n",
    "\r\n",
    "---\r\n",
    "\r\n",
    "## 📝 Introduction\r\n",
    "\r\n",
    "The **Gemini 1.5 model**, with its breakthrough large context window of **2 million tokens**, enables the processing of vast amounts of data in a single context. In this project, we leverage this capability to analyze the evolution of scientific literature in AI over the past 50 years. This analysis covers how research trends, terminologies, and paradigms have shifted from one decade to the next, culminating in the current state of the field.\r\n",
    "\r\n",
    "### Why this is important:\r\n",
    "\r\n",
    "- **Rapid Evolution**: Scientific fields evolve rapidly, and understanding the historical context is crucial for predicting future trends.\r\n",
    "- **Trend Analysis**: By analyzing research trends, we can better identify emerging technologies, shifting methodologies, and influential papers that have shaped AI's progress.\r\n",
    "- **Long Context Window**: Gemini's long context window allows us to analyze the entire history of AI research in one continuous process, preserving important contextual connections between papers published across decades."
   ]
  },
  {
   "attachments": {
    "be9caefe-e961-4797-9dbb-b47ef32192e8.png": {
     "image/png": "[encoded data removed]"
    }
   },
   "cell_type": "markdown",
   "id": "9ac617c5",
   "metadata": {
    "papermill": {
     "duration": 0.00333,
     "end_time": "2024-10-22T08:17:17.825885",
     "exception": false,
     "start_time": "2024-10-22T08:17:17.822555",
     "status": "completed"
    },
    "tags": []
   },
   "source": [
    "## ![arxiv_icon_small.png](attachment:be9caefe-e961-4797-9dbb-b47ef32192e8.png) arXiv Dataset Overview\n",
    "\n",
    "The arXiv dataset provides a comprehensive collection of AI research papers from various categories, including machine learning, robotics, and natural language processing. It covers a wide range of publications spanning multiple decades, offering rich metadata such as titles, abstracts, publication dates, and keywords.\n",
    "\n",
    "### Why this dataset is important:\n",
    "\n",
    "- **Historical Depth**: By covering research papers from the 1970s to the present, the dataset allows for a longitudinal study of AI's evolution.\n",
    "- **Rich Metadata**: The inclusion of detailed abstracts, keywords, and publication years enables a deep dive into trends and paradigm shifts in the field.\n",
    "- **Aligned with Gemini's Capabilities**: The structure of the dataset perfectly aligns with Gemini’s ability to process large context windows, allowing us to analyze the entire body of work continuously and preserve contextual connections over decades.\n",
    "\n",
    "This dataset is essential for uncovering emerging technologies, influential research works, and understanding the trajectory of AI as a field.\n"
   ]
  },
  {
   "cell_type": "code",
   "execution_count": 1,
   "id": "582be8ed",
   "metadata": {
    "execution": {
     "iopub.execute_input": "2024-10-22T08:17:17.834524Z",
     "iopub.status.busy": "2024-10-22T08:17:17.834094Z",
     "iopub.status.idle": "2024-10-22T08:17:33.305676Z",
     "shell.execute_reply": "2024-10-22T08:17:33.304535Z"
    },
    "papermill": {
     "duration": 15.478796,
     "end_time": "2024-10-22T08:17:33.308227",
     "exception": false,
     "start_time": "2024-10-22T08:17:17.829431",
     "status": "completed"
    },
    "tags": []
   },
   "outputs": [
    {
     "name": "stdout",
     "output_type": "stream",
     "text": [
      "Collecting arxiv\r\n",
      "  Downloading arxiv-2.1.3-py3-none-any.whl.metadata (6.1 kB)\r\n",
      "Collecting feedparser~=6.0.10 (from arxiv)\r\n",
      "  Downloading feedparser-6.0.11-py3-none-any.whl.metadata (2.4 kB)\r\n",
      "Requirement already satisfied: requests~=2.32.0 in /opt/conda/lib/python3.10/site-packages (from arxiv) (2.32.3)\r\n",
      "Collecting sgmllib3k (from feedparser~=6.0.10->arxiv)\r\n",
      "  Downloading sgmllib3k-1.0.0.tar.gz (5.8 kB)\r\n",
      "  Preparing metadata (setup.py) ... \u001b[?25l-\b \bdone\r\n",
      "\u001b[?25hRequirement already satisfied: charset-normalizer<4,>=2 in /opt/conda/lib/python3.10/site-packages (from requests~=2.32.0->arxiv) (3.3.2)\r\n",
      "Requirement already satisfied: idna<4,>=2.5 in /opt/conda/lib/python3.10/site-packages (from requests~=2.32.0->arxiv) (3.7)\r\n",
      "Requirement already satisfied: urllib3<3,>=1.21.1 in /opt/conda/lib/python3.10/site-packages (from requests~=2.32.0->arxiv) (1.26.18)\r\n",
      "Requirement already satisfied: certifi>=2017.4.17 in /opt/conda/lib/python3.10/site-packages (from requests~=2.32.0->arxiv) (2024.8.30)\r\n",
      "Downloading arxiv-2.1.3-py3-none-any.whl (11 kB)\r\n",
      "Downloading feedparser-6.0.11-py3-none-any.whl (81 kB)\r\n",
      "\u001b[2K   \u001b[90m━━━━━━━━━━━━━━━━━━━━━━━━━━━━━━━━━━━━━━━━\u001b[0m \u001b[32m81.3/81.3 kB\u001b[0m \u001b[31m2.0 MB/s\u001b[0m eta \u001b[36m0:00:00\u001b[0m\r\n",
      "\u001b[?25hBuilding wheels for collected packages: sgmllib3k\r\n",
      "  Building wheel for sgmllib3k (setup.py) ... \u001b[?25l-\b \b\\\b \bdone\r\n",
      "\u001b[?25h  Created wheel for sgmllib3k: filename=sgmllib3k-1.0.0-py3-none-any.whl size=6049 sha256=0b9703e4494b44208866ed277bf9d5bf434f0512a7543032a7bca187f445f32e\r\n",
      "  Stored in directory: /root/.cache/pip/wheels/f0/69/93/a47e9d621be168e9e33c7ce60524393c0b92ae83cf6c6e89c5\r\n",
      "Successfully built sgmllib3k\r\n",
      "Installing collected packages: sgmllib3k, feedparser, arxiv\r\n",
      "Successfully installed arxiv-2.1.3 feedparser-6.0.11 sgmllib3k-1.0.0\r\n"
     ]
    }
   ],
   "source": [
    "try:\n",
    "    import arxiv\n",
    "    print(\"arxiv is already installed.\")\n",
    "except ImportError:\n",
    "    # If arxiv is not installed, install it\n",
    "    !pip install arxiv"
   ]
  },
  {
   "cell_type": "code",
   "execution_count": 2,
   "id": "ef5b4089",
   "metadata": {
    "execution": {
     "iopub.execute_input": "2024-10-22T08:17:33.318704Z",
     "iopub.status.busy": "2024-10-22T08:17:33.318363Z",
     "iopub.status.idle": "2024-10-22T08:17:34.189815Z",
     "shell.execute_reply": "2024-10-22T08:17:34.189017Z"
    },
    "papermill": {
     "duration": 0.879301,
     "end_time": "2024-10-22T08:17:34.192155",
     "exception": false,
     "start_time": "2024-10-22T08:17:33.312854",
     "status": "completed"
    },
    "tags": []
   },
   "outputs": [],
   "source": [
    "# Import all necessary libraries here.\n",
    "import arxiv\n",
    "import pandas as pd\n",
    "import time"
   ]
  },
  {
   "attachments": {
    "7ee2cbe6-5c4d-4def-bafa-341ffb8e6423.png": {
     "image/png": "[encoded data removed]"
    }
   },
   "cell_type": "markdown",
   "id": "3c9a85bc",
   "metadata": {
    "papermill": {
     "duration": 0.00409,
     "end_time": "2024-10-22T08:17:34.200819",
     "exception": false,
     "start_time": "2024-10-22T08:17:34.196729",
     "status": "completed"
    },
    "tags": []
   },
   "source": [
    "## 📊 Dataset Overview\n",
    "The dataset used in this analysis contains a comprehensive collection of AI research papers spanning over 50 years. Sourced from arXiv.org and NeurIPS conference proceedings, it includes metadata such as titles, authors, abstracts, publication dates, and key terms. This structured information allows us to analyze the evolution of AI research and track paradigm shifts within the field.\n",
    "\n",
    "### Why this dataset is valuable:\n",
    "- **Comprehensive Coverage**: The dataset spans multiple decades, capturing the progression of AI research from its early stages to the present.\n",
    "- **Insightful Metadata**: With detailed abstracts, keywords, and publication dates, the dataset provides rich context for understanding research trends and identifying influential papers.\n",
    "- **Enabling Long-Context Analysis**: The structured data aligns perfectly with Gemini's capability to handle large context windows, enabling a holistic view of AI's development and preserving connections across decades of research.\n",
    "\n",
    "This dataset is essential for identifying patterns, understanding the evolution of terminology, and uncovering the emerging technologies that shape the future of AI."
   ]
  },
  {
   "cell_type": "code",
   "execution_count": 3,
   "id": "ed86213e",
   "metadata": {
    "execution": {
     "iopub.execute_input": "2024-10-22T08:17:34.210644Z",
     "iopub.status.busy": "2024-10-22T08:17:34.210207Z",
     "iopub.status.idle": "2024-10-22T08:19:26.516276Z",
     "shell.execute_reply": "2024-10-22T08:19:26.515276Z"
    },
    "papermill": {
     "duration": 112.318791,
     "end_time": "2024-10-22T08:19:26.523857",
     "exception": false,
     "start_time": "2024-10-22T08:17:34.205066",
     "status": "completed"
    },
    "tags": []
   },
   "outputs": [
    {
     "name": "stderr",
     "output_type": "stream",
     "text": [
      "/tmp/ipykernel_24/3346801040.py:20: DeprecationWarning: The 'Search.results' method is deprecated, use 'Client.results' instead\n",
      "  for result in search.results():\n"
     ]
    },
    {
     "name": "stdout",
     "output_type": "stream",
     "text": [
      "Total papers retrieved: 1000\n"
     ]
    }
   ],
   "source": [
    "# Query for AI-related papers from the arXiv API\n",
    "search_query = 'cat:cs.AI OR cat:stat.ML OR cat:cs.LG'\n",
    "\n",
    "# Initialize an empty list to store papers\n",
    "papers = []\n",
    "total_results = 1000  # Total number of results you want to retrieve\n",
    "batch_size = 100  # The maximum batch size supported by arXiv API\n",
    "current_count = 0\n",
    "\n",
    "# Fetch results in batches\n",
    "for start in range(0, total_results, batch_size):\n",
    "    search = arxiv.Search(\n",
    "        query=search_query,\n",
    "        max_results=batch_size,\n",
    "        sort_by=arxiv.SortCriterion.SubmittedDate\n",
    "    )\n",
    "\n",
    "    try:\n",
    "        # Fetch results from the search object\n",
    "        for result in search.results():\n",
    "            papers.append({\n",
    "                'title': result.title,\n",
    "                'authors': [author.name for author in result.authors],\n",
    "                'abstract': result.summary,\n",
    "                'published': result.published,\n",
    "                'categories': result.categories,\n",
    "                'pdf_url': result.pdf_url\n",
    "            })\n",
    "            current_count += 1\n",
    "            if current_count >= total_results:\n",
    "                break\n",
    "        time.sleep(3)  \n",
    "    except arxiv.UnexpectedEmptyPageError as e:\n",
    "        print(f\"Empty page encountered at start={start}. Skipping this batch.\")\n",
    "        continue \n",
    "    except Exception as e:\n",
    "        print(f\"An error occurred: {e}\")\n",
    "        break\n",
    "\n",
    "# Display the total number of papers retrieved and the first few entries\n",
    "print(f\"Total papers retrieved: {len(papers)}\")"
   ]
  },
  {
   "cell_type": "code",
   "execution_count": 4,
   "id": "be2a055a",
   "metadata": {
    "execution": {
     "iopub.execute_input": "2024-10-22T08:19:26.533759Z",
     "iopub.status.busy": "2024-10-22T08:19:26.533453Z",
     "iopub.status.idle": "2024-10-22T08:19:26.617859Z",
     "shell.execute_reply": "2024-10-22T08:19:26.617156Z"
    },
    "papermill": {
     "duration": 0.091712,
     "end_time": "2024-10-22T08:19:26.619926",
     "exception": false,
     "start_time": "2024-10-22T08:19:26.528214",
     "status": "completed"
    },
    "tags": []
   },
   "outputs": [],
   "source": [
    "# After fetching the papers, save the metadata to a CSV file for easier use in Kaggle working directory (/kaggle/working)\n",
    "df = pd.DataFrame(papers)\n",
    "df.to_csv('/kaggle/working/arxiv_ai_papers.csv', index=False)"
   ]
  },
  {
   "cell_type": "code",
   "execution_count": 5,
   "id": "7566b174",
   "metadata": {
    "execution": {
     "iopub.execute_input": "2024-10-22T08:19:26.630153Z",
     "iopub.status.busy": "2024-10-22T08:19:26.629830Z",
     "iopub.status.idle": "2024-10-22T08:19:26.670614Z",
     "shell.execute_reply": "2024-10-22T08:19:26.669606Z"
    },
    "papermill": {
     "duration": 0.048031,
     "end_time": "2024-10-22T08:19:26.672553",
     "exception": false,
     "start_time": "2024-10-22T08:19:26.624522",
     "status": "completed"
    },
    "tags": []
   },
   "outputs": [
    {
     "name": "stdout",
     "output_type": "stream",
     "text": [
      "Printing the database from after 1980\n",
      "Empty DataFrame\n",
      "Columns: [title, authors, abstract, published, categories, pdf_url, year, decade]\n",
      "Index: []\n"
     ]
    }
   ],
   "source": [
    "# Organize by decades to fit our analysis.\n",
    "df = pd.read_csv('/kaggle/working/arxiv_ai_papers.csv')\n",
    "\n",
    "# Convert the published date to a datetime format\n",
    "df['published'] = pd.to_datetime(df['published'])\n",
    "\n",
    "# Extract the year and create a decade column\n",
    "df['year'] = df['published'].dt.year\n",
    "df['decade'] = (df['year'] // 10) * 10\n",
    "\n",
    "# filter papers from the 1980s\n",
    "df_1980s = df[df['decade'] == 1980]\n",
    "\n",
    "print(f\"Printing the database from after 1980\")\n",
    "print(df_1980s)"
   ]
  }
 ],
 "metadata": {
  "kaggle": {
   "accelerator": "none",
   "dataSources": [
    {
     "databundleVersionId": 9881586,
     "sourceId": 83735,
     "sourceType": "competition"
    }
   ],
   "isGpuEnabled": false,
   "isInternetEnabled": true,
   "language": "python",
   "sourceType": "notebook"
  },
  "kernelspec": {
   "display_name": "Python 3",
   "language": "python",
   "name": "python3"
  },
  "language_info": {
   "codemirror_mode": {
    "name": "ipython",
    "version": 3
   },
   "file_extension": ".py",
   "mimetype": "text/x-python",
   "name": "python",
   "nbconvert_exporter": "python",
   "pygments_lexer": "ipython3",
   "version": "3.10.14"
  },
  "papermill": {
   "default_parameters": {},
   "duration": 131.961103,
   "end_time": "2024-10-22T08:19:26.994325",
   "environment_variables": {},
   "exception": null,
   "input_path": "__notebook__.ipynb",
   "output_path": "__notebook__.ipynb",
   "parameters": {},
   "start_time": "2024-10-22T08:17:15.033222",
   "version": "2.6.0"
  }
 },
 "nbformat": 4,
 "nbformat_minor": 5
}
